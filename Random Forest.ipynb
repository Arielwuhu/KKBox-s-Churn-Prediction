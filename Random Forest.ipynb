{
 "cells": [
  {
   "cell_type": "code",
   "execution_count": 8,
   "metadata": {},
   "outputs": [],
   "source": [
    "import pandas as pd\n",
    "import numpy as np\n",
    "import tensorflow as tf\n",
    "import os\n",
    "from os import listdir\n",
    "from os.path import isfile, join\n",
    "import tqdm"
   ]
  },
  {
   "cell_type": "code",
   "execution_count": 9,
   "metadata": {},
   "outputs": [],
   "source": [
    "# the datasets are too large, do not push to github!\n",
    "# download the file on the desktop\n",
    "mypath = \"C:/data\"\n",
    "files = [mypath+'/'+str(f) for f in listdir(mypath) if isfile(join(mypath, f))]"
   ]
  },
  {
   "cell_type": "markdown",
   "metadata": {},
   "source": [
    "\n",
    "Create data dictionary and move these 5 files into it.\n",
    "\n",
    "Output of listdir(mypath) should be:\n",
    "\n",
    "data/members_v3.csv.7z \n",
    "\n",
    "data/sample_submission_zero.csv.7z\n",
    "\n",
    "data/train.csv.7z\n",
    "\n",
    "data/transactions.csv.7z\n",
    "\n",
    "data/user_logs.csv.7z"
   ]
  },
  {
   "cell_type": "code",
   "execution_count": 10,
   "metadata": {},
   "outputs": [
    {
     "data": {
      "text/plain": [
       "['C:/data/members_v3.csv.7z',\n",
       " 'C:/data/sample_submission_v2.csv.7z',\n",
       " 'C:/data/train.csv.7z',\n",
       " 'C:/data/transactions.csv.7z',\n",
       " 'C:/data/user_logs.csv.7z']"
      ]
     },
     "execution_count": 10,
     "metadata": {},
     "output_type": "execute_result"
    }
   ],
   "source": [
    "files"
   ]
  },
  {
   "cell_type": "code",
   "execution_count": 16,
   "metadata": {},
   "outputs": [
    {
     "name": "stdout",
     "output_type": "stream",
     "text": [
      "Dictionary is already created\n"
     ]
    }
   ],
   "source": [
    "if \"unpacked_data\" not in listdir('./'):\n",
    "    os.makedirs(\"./unpacked_data\")\n",
    "else:\n",
    "    print(\"Dictionary is already created\")"
   ]
  },
  {
   "cell_type": "code",
   "execution_count": null,
   "metadata": {},
   "outputs": [],
   "source": [
    "# unpack data\n",
    "import py7zr\n",
    "\n",
    "\n",
    "extract_path = \"unpacked_data\"\n",
    "for file in tqdm.tqdm(files):\n",
    "    with py7zr.SevenZipFile(file, mode='r') as z:\n",
    "        data = z.extractall(extract_path)"
   ]
  },
  {
   "cell_type": "code",
   "execution_count": 61,
   "metadata": {},
   "outputs": [],
   "source": [
    "'''\n",
    "Functions that use to change the datatype according to columns' largest values for memory saving。\n",
    "\n",
    "For integer:\n",
    "For example, the maximum number that int8 can store is 127, and the minimum is - 128;\n",
    "if the largest values for such column is smaller than the value，\n",
    "we change the data type to int8\n",
    "Perform this for all columns include int.\n",
    "\n",
    "For float:\n",
    "We change all features to float32\n",
    "Source: https://www.kaggle.com/jeru666/did-you-think-of-these-features/notebook\n",
    "'''\n",
    "\n",
    "def change_datatype(df):\n",
    "    int_cols = list(df.select_dtypes(include=['int']).columns)\n",
    "    for col in int_cols:\n",
    "        if ((np.max(df[col]) <= 127) and(np.min(df[col] >= -128))):\n",
    "            df[col] = df[col].astype(np.int8)\n",
    "        elif ((np.max(df[col]) <= 32767) and(np.min(df[col] >= -32768))):\n",
    "            df[col] = df[col].astype(np.int16)\n",
    "        elif ((np.max(df[col]) <= 2147483647) and(np.min(df[col] >= -2147483648))):\n",
    "            df[col] = df[col].astype(np.int32)\n",
    "        else:\n",
    "            df[col] = df[col].astype(np.int64)\n",
    "            \n",
    "def change_datatype_float(df):\n",
    "    float_cols = list(df.select_dtypes(include=['float']).columns)\n",
    "    for col in float_cols:\n",
    "        df[col] = df[col].astype(np.float32)"
   ]
  },
  {
   "cell_type": "markdown",
   "metadata": {},
   "source": [
    "# Merging data"
   ]
  },
  {
   "cell_type": "code",
   "execution_count": 60,
   "metadata": {},
   "outputs": [],
   "source": [
    "train = pd.read_csv(r\"C:\\Users\\Shileng Zhang\\Documents\\GitHub\\STA142A-Project\\.ipynb_checkpoints\\unpacked_data\\train.csv\")\n",
    "user = pd.read_csv(r\"C:\\Users\\Shileng Zhang\\Documents\\GitHub\\STA142A-Project\\.ipynb_checkpoints\\unpacked_data\\user_logs.csv\", nrows = 1000000)\n",
    "member = pd.read_csv(r\"C:\\Users\\Shileng Zhang\\Documents\\GitHub\\STA142A-Project\\.ipynb_checkpoints\\unpacked_data\\members_v3.csv\", nrows = 1000000)\n",
    "transactions = pd.read_csv(r\"C:\\Users\\Shileng Zhang\\Documents\\GitHub\\STA142A-Project\\.ipynb_checkpoints\\unpacked_data\\transactions.csv\", nrows = 1000000)"
   ]
  },
  {
   "cell_type": "code",
   "execution_count": 215,
   "metadata": {},
   "outputs": [
    {
     "name": "stdout",
     "output_type": "stream",
     "text": [
      "current usage: 15.151046752929688  MB\n"
     ]
    }
   ],
   "source": [
    "#Example\n",
    "mem = train.memory_usage(index=True).sum()\n",
    "print(\"current usage:\", mem/ 1024**2,\" MB\")"
   ]
  },
  {
   "cell_type": "code",
   "execution_count": 217,
   "metadata": {},
   "outputs": [
    {
     "name": "stdout",
     "output_type": "stream",
     "text": [
      "usage after type changes: 8.522517204284668  MB\n"
     ]
    }
   ],
   "source": [
    "#change data type\n",
    "change_datatype(train)\n",
    "mem = train.memory_usage(index=True).sum()\n",
    "print(\"usage after type changes:\", mem/ 1024**2,\" MB\")"
   ]
  },
  {
   "cell_type": "code",
   "execution_count": 230,
   "metadata": {},
   "outputs": [],
   "source": [
    "#merge data\n",
    "train1 = pd.merge(train, user, on = 'msno') \n",
    "train2 = pd.merge(train, member, on = 'msno') \n",
    "train3 = pd.merge(train, transactions, on = 'msno') "
   ]
  },
  {
   "cell_type": "code",
   "execution_count": 231,
   "metadata": {},
   "outputs": [],
   "source": [
    "change_datatype(train1)\n",
    "change_datatype_float(train2)\n",
    "change_datatype(train3)"
   ]
  },
  {
   "cell_type": "markdown",
   "metadata": {},
   "source": [
    "# Random Forest"
   ]
  },
  {
   "cell_type": "code",
   "execution_count": 183,
   "metadata": {},
   "outputs": [],
   "source": [
    "#import packages\n",
    "from sklearn.ensemble import RandomForestClassifier\n",
    "from sklearn import metrics"
   ]
  },
  {
   "cell_type": "code",
   "execution_count": 241,
   "metadata": {},
   "outputs": [],
   "source": [
    "def clean_dataset(df):\n",
    "    assert isinstance(df, pd.DataFrame), \"df needs to be a pd.DataFrame\"\n",
    "    df.dropna(inplace=True)\n",
    "    indices_to_keep = ~df.isin([np.nan, np.inf, -np.inf]).any(1)\n",
    "    return df[indices_to_keep].astype(np.float64)"
   ]
  },
  {
   "cell_type": "code",
   "execution_count": 267,
   "metadata": {},
   "outputs": [
    {
     "data": {
      "text/plain": [
       "((437356, 8), (437356,))"
      ]
     },
     "execution_count": 267,
     "metadata": {},
     "output_type": "execute_result"
    }
   ],
   "source": [
    "# Userlog\n",
    "X = train1.drop('is_churn',axis = 1)\n",
    "X = X.drop('msno', axis = 1)\n",
    "Y = train1['is_churn']\n",
    "X_train, X_test, Y_train, Y_test = train_test_split(X, Y, test_size=0.3)\n",
    "X_train.shape, Y_train.shape"
   ]
  },
  {
   "cell_type": "code",
   "execution_count": 268,
   "metadata": {},
   "outputs": [],
   "source": [
    "clf=RandomForestClassifier(n_estimators=100)\n",
    "clf.fit(X_train,Y_train)\n",
    "Y_pred=clf.predict(X_test)"
   ]
  },
  {
   "cell_type": "code",
   "execution_count": 269,
   "metadata": {},
   "outputs": [
    {
     "name": "stdout",
     "output_type": "stream",
     "text": [
      "Accuracy: 0.943352237261189\n"
     ]
    }
   ],
   "source": [
    "# Model Accuracy\n",
    "print(\"Accuracy:\",metrics.accuracy_score(Y_test, Y_pred))"
   ]
  },
  {
   "cell_type": "code",
   "execution_count": 259,
   "metadata": {},
   "outputs": [
    {
     "data": {
      "text/plain": [
       "((53976, 5), (53976,))"
      ]
     },
     "execution_count": 259,
     "metadata": {},
     "output_type": "execute_result"
    }
   ],
   "source": [
    "# for member\n",
    "train2 = train2.iloc[0:,1:]\n",
    "clean_dataset(train2)\n",
    "train2['gender'].replace({'female':'1', 'male':'0'}, inplace = True)\n",
    "X = train2.drop('is_churn',axis = 1)\n",
    "Y = train2['is_churn']\n",
    "X_train, X_test, Y_train, Y_test = train_test_split(X, Y, test_size=0.3)\n",
    "X_train.shape, Y_train.shape"
   ]
  },
  {
   "cell_type": "code",
   "execution_count": 260,
   "metadata": {},
   "outputs": [],
   "source": [
    "clf=RandomForestClassifier(n_estimators=100)\n",
    "clf.fit(X_train,Y_train)\n",
    "Y_pred=clf.predict(X_test)"
   ]
  },
  {
   "cell_type": "code",
   "execution_count": 261,
   "metadata": {},
   "outputs": [
    {
     "name": "stdout",
     "output_type": "stream",
     "text": [
      "Accuracy: 0.9018285566074439\n"
     ]
    }
   ],
   "source": [
    "# Model Accuracy\n",
    "print(\"Accuracy:\",metrics.accuracy_score(Y_test, Y_pred))"
   ]
  },
  {
   "cell_type": "code",
   "execution_count": 232,
   "metadata": {},
   "outputs": [
    {
     "data": {
      "text/plain": [
       "((515993, 8), (515993,))"
      ]
     },
     "execution_count": 232,
     "metadata": {},
     "output_type": "execute_result"
    }
   ],
   "source": [
    "# for transactions\n",
    "X = train3.drop('is_churn',axis = 1)\n",
    "X = X3.drop('msno', axis = 1)\n",
    "Y = train3['is_churn']\n",
    "X_train, X_test, Y_train, Y_test = train_test_split(X, Y, test_size=0.3)\n",
    "X_train.shape, Y_train.shape"
   ]
  },
  {
   "cell_type": "code",
   "execution_count": 233,
   "metadata": {},
   "outputs": [],
   "source": [
    "clf=RandomForestClassifier(n_estimators=100)\n",
    "clf.fit(X_train,Y_train)\n",
    "Y_pred=clf.predict(X_test)"
   ]
  },
  {
   "cell_type": "code",
   "execution_count": 234,
   "metadata": {},
   "outputs": [
    {
     "name": "stdout",
     "output_type": "stream",
     "text": [
      "Accuracy: 0.9545448379088455\n"
     ]
    }
   ],
   "source": [
    "# Model Accuracy\n",
    "print(\"Accuracy:\",metrics.accuracy_score(Y_test, Y_pred))"
   ]
  }
 ],
 "metadata": {
  "kernelspec": {
   "display_name": "Python 3 (ipykernel)",
   "language": "python",
   "name": "python3"
  },
  "language_info": {
   "codemirror_mode": {
    "name": "ipython",
    "version": 3
   },
   "file_extension": ".py",
   "mimetype": "text/x-python",
   "name": "python",
   "nbconvert_exporter": "python",
   "pygments_lexer": "ipython3",
   "version": "3.9.7"
  }
 },
 "nbformat": 4,
 "nbformat_minor": 4
}
